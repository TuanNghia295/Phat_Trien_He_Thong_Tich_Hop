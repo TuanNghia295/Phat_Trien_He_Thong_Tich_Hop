{
 "cells": [
  {
   "cell_type": "markdown",
   "metadata": {},
   "source": [
    "MSSV: 20064531\n",
    "\n",
    "Họ và tên: Nguyễn Tuấn Nghĩa\n",
    "\n",
    "Lớp học phần - Nhóm TH: DHCNTT16A - 2\n",
    "\n",
    "Nhóm thực hành: 2"
   ]
  },
  {
   "cell_type": "code",
   "execution_count": null,
   "metadata": {},
   "outputs": [],
   "source": []
  },
  {
   "cell_type": "markdown",
   "metadata": {},
   "source": [
    "# 1. Decision Making and Loops\n",
    "---"
   ]
  },
  {
   "cell_type": "markdown",
   "metadata": {},
   "source": [
    "## 1.1. Viết chương trình kiểm tra một số là số dương, số âm hay bằng không không.\n",
    "\n",
    "Sử dụng 2 dạng của câu lệnh rễ nhánh: \n",
    "\n",
    "if ... elif ... else\n",
    "\n",
    "Nested if"
   ]
  },
  {
   "cell_type": "code",
   "execution_count": 6,
   "metadata": {},
   "outputs": [
    {
     "name": "stdout",
     "output_type": "stream",
     "text": [
      "-1.0 is negative numeber\n"
     ]
    }
   ],
   "source": [
    "# Dạng 1 if ... elif ... else\n",
    "a = float(input(\"Nhap so a:\"))\n",
    "if(a > 0):\n",
    "    print(\"{0} is positive numeber\".format(a))\n",
    "elif(a < 0):\n",
    "    print(\"{0} is negative numeber\".format(a))\n",
    "else:\n",
    "    print(\"{0} is equal to )\".format(a))\n"
   ]
  },
  {
   "cell_type": "code",
   "execution_count": 8,
   "metadata": {},
   "outputs": [
    {
     "name": "stdout",
     "output_type": "stream",
     "text": [
      "0.0 is equal to 0\n"
     ]
    }
   ],
   "source": [
    "# Dạng 2: Nested if\n",
    "num = float(input(\"Nhập vào một số: \"))\n",
    "\n",
    "### START CODE HERE ### \n",
    "if(num != 0):\n",
    "    if(num > 0):\n",
    "        print(\"{0} is positive\".format(num))\n",
    "    else:\n",
    "        print(\"{0} is negative\".format(num))\n",
    "else:\n",
    "    print(\"{0} is equal to 0\".format(num))\n",
    "\n",
    "### END CODE HERE ###"
   ]
  },
  {
   "cell_type": "markdown",
   "metadata": {},
   "source": [
    "## 1.2. Viết chương trình kiểm tra một năm có phải năm nhuận không.\n",
    "\n",
    "Năm nhuận là năm chia hết cho 4, trừ những năm đầu thế kỷ (chia hết cho 100). Những năm đầu thế kỷ là năm nhuận khi nó chia hết cho 400 (ví dụ năm 2100 không phải là năm nhuận, 2104 là năm nhuận).\n",
    "\n",
    "Sử dụng 2 dạng của câu lệnh rễ nhánh: \n",
    "\n",
    "if ... elif ... else\n",
    "\n",
    "Nested if"
   ]
  },
  {
   "cell_type": "code",
   "execution_count": 2,
   "metadata": {},
   "outputs": [
    {
     "name": "stdout",
     "output_type": "stream",
     "text": [
      "2002 không phải là năm nhuận\n"
     ]
    }
   ],
   "source": [
    "# Sử dụng lệnh if lồng nhau\n",
    "year = int(input(\"Nhập năm: \"))\n",
    "\n",
    "if (year % 4) == 0:\n",
    "    if (year % 100) == 0:\n",
    "        if (year % 400) == 0:\n",
    "            print(\"{0} là năm nhuận\".format(year))\n",
    "        else:\n",
    "            print(\"{0} không phải là năm nhuận\".format(year))\n",
    "    else:\n",
    "        print(\"{0} là năm nhuận\".format(year))\n",
    "else:\n",
    "    print(\"{0} không phải là năm nhuận\".format(year))"
   ]
  },
  {
   "cell_type": "code",
   "execution_count": 10,
   "metadata": {},
   "outputs": [
    {
     "name": "stdout",
     "output_type": "stream",
     "text": [
      "2002 không phải là năm nhuận\n"
     ]
    }
   ],
   "source": [
    "# Sử dụng lệnh if ... elif ... else\n",
    "year = int(input(\"Nhập năm: \"))\n",
    "\n",
    "### START CODE HERE ### \n",
    "if(year % 4)==0:\n",
    "    print(\"{0} là năm nhuận\".format(year))\n",
    "elif(year % 100)==0:\n",
    "    print(\"{0} là năm nhuận\".format(year))\n",
    "elif(year % 400)==0:\n",
    "    print(\"{0} là năm nhuận\".format(year))\n",
    "else:\n",
    "    print(\"{0} không phải là năm nhuận\".format(year))\n",
    "\n",
    "### END CODE HERE ###"
   ]
  },
  {
   "cell_type": "markdown",
   "metadata": {},
   "source": [
    "## 1.3. Viết chương trình kiểm tra một số nguyên có phải số nguyên tố không. Nếu không phải là số nguyên tố in ra lý do."
   ]
  },
  {
   "cell_type": "code",
   "execution_count": 43,
   "metadata": {},
   "outputs": [
    {
     "name": "stdout",
     "output_type": "stream",
     "text": [
      "65 không phải là số nguyên tố vì 65 chia hết cho 5\n"
     ]
    }
   ],
   "source": [
    "num = int(input(\"Nhập một số: \"))\n",
    "\n",
    "# Số nguyên tố phải lớn hơn 1\n",
    "if num > 1:\n",
    "    is_prime = True  # Giả định ban đầu num là số nguyên tố\n",
    "\n",
    "    for i in range(2, num):\n",
    "        if (num % i) == 0:\n",
    "            is_prime = False  # Nếu num chia hết cho i, thì num không phải là số nguyên tố\n",
    "            break\n",
    "\n",
    "    if is_prime:\n",
    "        print(\"{0} là số nguyên tố\".format(num))\n",
    "    else:\n",
    "        print(\"{0} không phải là số nguyên tố vì {0} chia hết cho {1}\".format(num, i))\n",
    "else:\n",
    "    print(\"{0} không phải là số nguyên tố vì nó nhỏ hơn hoặc bằng 1\".format(num))\n"
   ]
  },
  {
   "cell_type": "markdown",
   "metadata": {},
   "source": [
    "## 1.4. Viết chương trình in ra tất cả các số nguyên tố trong khoảng (a,b)"
   ]
  },
  {
   "cell_type": "code",
   "execution_count": 27,
   "metadata": {},
   "outputs": [
    {
     "name": "stdout",
     "output_type": "stream",
     "text": [
      "Prime numbers between 900 and 1000 are:\n",
      "907\n",
      "911\n",
      "919\n",
      "929\n",
      "937\n",
      "941\n",
      "947\n",
      "953\n",
      "967\n",
      "971\n",
      "977\n",
      "983\n",
      "991\n",
      "997\n"
     ]
    }
   ],
   "source": [
    "lower = 900\n",
    "upper = 1000\n",
    "\n",
    "print(\"Prime numbers between\", lower, \"and\", upper, \"are:\")\n",
    "\n",
    "for num in range(lower, upper + 1):\n",
    "    if num > 1:\n",
    "        is_prime = True\n",
    "\n",
    "        for i in range(2, int(num**0.5) + 1):\n",
    "            if num % i == 0:\n",
    "                is_prime = False\n",
    "                break\n",
    "\n",
    "        if is_prime:\n",
    "            print(num)\n"
   ]
  },
  {
   "cell_type": "markdown",
   "metadata": {},
   "source": [
    "## 1.5. Viết chương trình in ra 5 số Armstrong bé nhất.\n",
    "\n",
    "Một số nguyên dương gồm n chữ số được gọi là số Armstrong bậc n nếu\n",
    "\n",
    "abcd... = a^n + b^n + c^n + d^n + ...\n",
    "\n",
    "VD: 153 = 1*1*1 + 5*5*5 + 3*3*3 "
   ]
  },
  {
   "cell_type": "code",
   "execution_count": 35,
   "metadata": {},
   "outputs": [
    {
     "name": "stdout",
     "output_type": "stream",
     "text": [
      "1\n",
      "2\n",
      "3\n",
      "4\n",
      "5\n"
     ]
    }
   ],
   "source": [
    "# initialize sum, count\n",
    "sum = 0\n",
    "count = 0\n",
    "num = 1\n",
    "\n",
    "# Biến count được sử dụng để đếm số Armstrong đã tìm được\n",
    "while count < 5:\n",
    "    # Chuyển số thành String và sử dụng hàm len để tính số chữ số\n",
    "    order = len(str(num))\n",
    "    \n",
    "    temp = num\n",
    "    sum = 0  # Reset biến sum cho mỗi số mới\n",
    "    \n",
    "    # Tính tổng mũ của các chữ số\n",
    "    while temp > 0:\n",
    "        digit = temp % 10  # Tìm chữ số cuối cùng\n",
    "        # Cộng thêm giá trị của chữ số vừa tìm được vào biến sum và\n",
    "        # thay đổi temp cho bước lặp tiếp theo\n",
    "        sum = sum + digit**order\n",
    "        temp //= 10  # Sửa thành temp //= 10 để chia temp cho 10\n",
    "\n",
    "    # Kiểm tra xem số có phải là số Armstrong không\n",
    "    if num == sum:\n",
    "        print(num)\n",
    "        count += 1\n",
    "\n",
    "    num += 1\n"
   ]
  },
  {
   "cell_type": "markdown",
   "metadata": {},
   "source": [
    "# 2. Functions\n",
    "---"
   ]
  },
  {
   "cell_type": "markdown",
   "metadata": {},
   "source": [
    "## 2.1. Viết hàm nhận vào một số nguyên, trả về giá trị True nếu nó là số nguyên tố, và False nếu nó không phải là số nguyên tố.\n",
    "\n",
    "Sử dụng code của Bài 1.3"
   ]
  },
  {
   "cell_type": "code",
   "execution_count": 41,
   "metadata": {},
   "outputs": [],
   "source": [
    "def prime(num):\n",
    "    ### START CODE HERE ### \n",
    "    # Sử dụng code của Bài 1.3\n",
    "    # Số nguyên tố phải lớn hơn 1\n",
    "    if num > 1:\n",
    "        is_prime = True  # Giả định ban đầu num là số nguyên tố\n",
    "        for i in range(2, num):\n",
    "            if (num % i) == 0:\n",
    "                is_prime = False  # Nếu num chia hết cho i, thì num không phải là số nguyên tố\n",
    "                break\n",
    "        if is_prime:\n",
    "            print(\"{0} là số nguyên tố\".format(num))\n",
    "        else:\n",
    "            is_prime = False\n",
    "            print(\"{0} không phải là số nguyên tố vì {0} chia hết cho {1}\".format(num, i))\n",
    "    else:\n",
    "        is_prime = False\n",
    "        print(\"{0} không phải là số nguyên tố vì nó nhỏ hơn hoặc bằng 1\".format(num))\n",
    "\n",
    "    ### END CODE HERE ###"
   ]
  },
  {
   "cell_type": "markdown",
   "metadata": {},
   "source": [
    "Kiểm tra hoạt động của hàm prime(n) đã viết"
   ]
  },
  {
   "cell_type": "code",
   "execution_count": 42,
   "metadata": {},
   "outputs": [
    {
     "name": "stdout",
     "output_type": "stream",
     "text": [
      "65 là số nguyên tố\n",
      "65 là số nguyên tố\n",
      "65 là số nguyên tố\n",
      "65 không phải là số nguyên tố\n"
     ]
    }
   ],
   "source": [
    "n = int(input(\"Nhập vào một số:\"))\n",
    "if prime(n):\n",
    "    print(n, 'là số nguyên tố')\n",
    "else:\n",
    "    print(n, 'không phải là số nguyên tố')"
   ]
  },
  {
   "cell_type": "markdown",
   "metadata": {},
   "source": [
    "## 2.2. Viết hàm nhận vào một số nguyên, trả về giá trị True nếu nó là số Armstrong, và False nếu nó không phải là số Armstrong.\n",
    "\n",
    "Sử dụng code của Bài 1.5"
   ]
  },
  {
   "cell_type": "code",
   "execution_count": 68,
   "metadata": {},
   "outputs": [
    {
     "name": "stdout",
     "output_type": "stream",
     "text": [
      "153 là số Armstrong.\n"
     ]
    }
   ],
   "source": [
    "def is_armstrong_number(number):\n",
    "    # Chuyển số thành chuỗi để tính độ dài\n",
    "    num_str = str(number)\n",
    "    \n",
    "    # Tính độ dài của số\n",
    "    num_digits = len(num_str)\n",
    "    \n",
    "    # Khởi tạo biến tổng lũy thừa\n",
    "    armstrong_sum = 0\n",
    "    \n",
    "    # Tính tổng các lũy thừa của các chữ số\n",
    "    for digit in num_str:\n",
    "        armstrong_sum += int(digit) ** num_digits\n",
    "    \n",
    "    # So sánh tổng lũy thừa với số ban đầu\n",
    "    return armstrong_sum == number\n",
    "\n",
    "# Kiểm tra số Armstrong\n",
    "number = int(input(\"Nhập một số nguyên: \"))\n",
    "if is_armstrong_number(number):\n",
    "    print(f\"{number} là số Armstrong.\")\n",
    "else:\n",
    "    print(f\"{number} không phải là số Armstrong.\")\n"
   ]
  },
  {
   "cell_type": "markdown",
   "metadata": {},
   "source": [
    "Kiểm tra hoạt động của hàm armstrong(n) đã viết"
   ]
  },
  {
   "cell_type": "code",
   "execution_count": 69,
   "metadata": {},
   "outputs": [
    {
     "name": "stdout",
     "output_type": "stream",
     "text": [
      "153 là số armstrong\n"
     ]
    }
   ],
   "source": [
    "n = 153\n",
    "# n = 35\n",
    "if is_armstrong_number(n):\n",
    "    print(n, 'là số armstrong')\n",
    "else:\n",
    "    print(n, 'không phải là số armstrong')"
   ]
  },
  {
   "cell_type": "markdown",
   "metadata": {},
   "source": [
    "## 2.3. Sử dụng hàm Lambda để in ra 10 lũy thừa đầu tiên của 2."
   ]
  },
  {
   "cell_type": "code",
   "execution_count": 10,
   "metadata": {},
   "outputs": [
    {
     "name": "stdout",
     "output_type": "stream",
     "text": [
      "2^1 = 2\n",
      "2^2 = 4\n",
      "2^3 = 8\n",
      "2^4 = 16\n",
      "2^5 = 32\n",
      "2^6 = 64\n",
      "2^7 = 128\n",
      "2^8 = 256\n",
      "2^9 = 512\n",
      "2^10 = 1024\n"
     ]
    }
   ],
   "source": [
    "# Display the powers of 2 using anonymous function\n",
    "luyThua = lambda a,n: [a**i for i in range(1,n+1)]\n",
    "\n",
    "a=2\n",
    "n=10\n",
    "\n",
    "result = luyThua(a,n)\n",
    "for i,power in enumerate(result):\n",
    "    print(f\"{a}^{i+1} = {power}\")\n",
    "\n",
    "# use anonymous/lambda function\n"
   ]
  },
  {
   "cell_type": "markdown",
   "metadata": {},
   "source": [
    "## 2.4. Sử dụng hàm Lambda để in ra 10 số chính phương đầu tiên"
   ]
  },
  {
   "cell_type": "code",
   "execution_count": 26,
   "metadata": {},
   "outputs": [
    {
     "name": "stdout",
     "output_type": "stream",
     "text": [
      "100\n"
     ]
    }
   ],
   "source": [
    "# Sử dụng hàm lambda và hàm map để in ra 10 số chính phương đầu tiên\n",
    "soChinhPhuong = lambda n: n**2\n",
    "n = 10\n",
    "\n",
    "result = list(map(soChinhPhuong, range(1, n+1)))\n",
    "\n",
    "for i, square in enumerate(result):\n",
    "    print(f\"Số chính phương thứ {i+1}: {square}\")\n"
   ]
  },
  {
   "cell_type": "markdown",
   "metadata": {},
   "source": [
    "## 2.5. Sử dụng hàm Lambda để in ra các số lẻ trong một dãy"
   ]
  },
  {
   "cell_type": "code",
   "execution_count": 27,
   "metadata": {},
   "outputs": [
    {
     "name": "stdout",
     "output_type": "stream",
     "text": [
      "Các số lẻ trong dãy [65, 39, 339, 221]\n"
     ]
    }
   ],
   "source": [
    "# Take a list of numbers\n",
    "my_list = [12, 65, 54, 39, 102, 339, 221,]\n",
    "\n",
    "# use anonymous function to filter\n",
    "result = list(filter(lambda x: (x % 2 == 1), my_list))\n",
    "\n",
    "# display the result\n",
    "print(\"Các số lẻ trong dãy\",result)"
   ]
  },
  {
   "cell_type": "markdown",
   "metadata": {},
   "source": [
    "## 2.5. Sử dụng hàm filter() để in ra các số nguyên tố trong một dãy"
   ]
  },
  {
   "cell_type": "code",
   "execution_count": 49,
   "metadata": {},
   "outputs": [
    {
     "name": "stdout",
     "output_type": "stream",
     "text": [
      "Các số nguyên tố trong dãy [2]\n"
     ]
    }
   ],
   "source": [
    "# Take a list of numbers\n",
    "my_list = [2,12, 65, 54, 39, 102, 339, 221,]\n",
    "\n",
    "# định nghĩa hàm nhận vào một số nguyên,\n",
    "# trả về giá trị True nếu nó là số nguyên tố,\n",
    "# và False nếu nó không phải là số nguyên tố.\n",
    "def prime(n):\n",
    "    ### START CODE HERE ### \n",
    "    # Số nguyên tố là các số chia hết cho 1 và chính nó\n",
    "    # ví dụ: 2 là số nguyên tố vì nó chỉ chia hết cho 1 và chính nó\n",
    "    # ví dụ: 7 là số nguyên tố, nhưng 4 không phải vì 4 chia hết cho 1 và cho 2 rồi cho 4 nữa\n",
    "\n",
    "\n",
    "    if(n <= 1): # Giả định ban đầu n là số nguyên tố\n",
    "        return False\n",
    "    for i in range(2,n):\n",
    "        if(n % i )==0:\n",
    "            return False\n",
    "    if is_prime:\n",
    "        return True\n",
    "        \n",
    "    ### END CODE HERE ###\n",
    "\n",
    "# use filter()\n",
    "    ### START CODE HERE ### \n",
    "checkPrime = list(filter(lambda x: prime(x),my_list))\n",
    "\n",
    "    ### END CODE HERE ###\n",
    "    \n",
    "# display the result\n",
    "print(\"Các số nguyên tố trong dãy\",checkPrime)"
   ]
  }
 ],
 "metadata": {
  "kernelspec": {
   "display_name": "Python 3",
   "language": "python",
   "name": "python3"
  },
  "language_info": {
   "codemirror_mode": {
    "name": "ipython",
    "version": 3
   },
   "file_extension": ".py",
   "mimetype": "text/x-python",
   "name": "python",
   "nbconvert_exporter": "python",
   "pygments_lexer": "ipython3",
   "version": "3.10.9"
  }
 },
 "nbformat": 4,
 "nbformat_minor": 2
}
